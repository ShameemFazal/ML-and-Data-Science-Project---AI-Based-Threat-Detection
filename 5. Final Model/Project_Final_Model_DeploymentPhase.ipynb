{
 "cells": [
  {
   "cell_type": "code",
   "execution_count": 1,
   "id": "3c2f3588-96cf-4c28-ac67-ef83ec1947a4",
   "metadata": {},
   "outputs": [],
   "source": [
    "import pickle"
   ]
  },
  {
   "cell_type": "code",
   "execution_count": 3,
   "id": "db926706-8c6d-463f-8d78-d972812b2ae3",
   "metadata": {},
   "outputs": [],
   "source": [
    "loaded_model = pickle.load(open(\"Finalized_RandomForestClassifier_model.sav\",'rb'))"
   ]
  },
  {
   "cell_type": "code",
   "execution_count": 5,
   "id": "05345c3e-044f-4fda-ace5-7468555260ec",
   "metadata": {},
   "outputs": [
    {
     "name": "stdin",
     "output_type": "stream",
     "text": [
      "File Accessed or not:? 1\n",
      "File Modified or not:? 0\n",
      "File Uploaded or not:? 1\n",
      "File Downloaded or not :? 0\n",
      "File Deleted or not :? 1\n",
      "IsRiskyHour or not :? 0\n",
      "UserLogin Failed or not:? 1\n",
      "GeoLocation is INDIA or not :? 0\n",
      "ClientIP is 203.28.245.168  or not :? 1\n",
      "ClientIP is 192.168.1.100 or not :? 0\n",
      "Result Status unknown or not :? 0\n"
     ]
    }
   ],
   "source": [
    "Operation_FileAccessed_input=int(input(\"File Accessed or not:?\"))\n",
    "Operation_FileModified_input=int(input(\"File Modified or not:?\"))\n",
    "Operation_FileUploaded_input=int(input(\"File Uploaded or not:?\"))\n",
    "Operation_FileDownloaded_input=int(input(\"File Downloaded or not :?\"))\n",
    "Operation_MoveToDeletedItems_input=int(input(\"File Deleted or not :?\"))\n",
    "IsRiskyHour_input=int(input(\"IsRiskyHour or not :?\"))\n",
    "Operation_UserLoginFailed_input=int(input(\"UserLogin Failed or not:?\"))\n",
    "GeoLocation_IND_input=int(input(\"GeoLocation is INDIA or not :?\"))\n",
    "ClientIP_203_input=int(input(\"ClientIP is 203.28.245.168  or not :?\"))\n",
    "ClientIP_192_input=int(input(\"ClientIP is 192.168.1.100 or not :?\"))\n",
    "Unknow_ResultStatus_input=int(input(\"Result Status unknown or not :?\"))"
   ]
  },
  {
   "cell_type": "code",
   "execution_count": null,
   "id": "1cb2a883-559d-44ce-b6bf-ce773205d420",
   "metadata": {},
   "outputs": [],
   "source": [
    "predicted_value=loaded_model.predict([[Operation_FileAccessed_input,Operation_FileModified_input,\n",
    "       Operation_FileUploaded_input,\n",
    "       Operation_FileDownloaded_input,Operation_MoveToDeletedItems_input,\n",
    "       IsRiskyHour_input,Operation_UserLoginFailed_input,GeoLocation_IND_input,\n",
    "       ClientIP_203_input,ClientIP_192_input,Unknow_ResultStatus_input]])\n",
    "\n",
    "\n",
    "if predicted_value:\n",
    "    message = \"\\033[1;31mThreat Detected\\033[0m\"  # Bold Red\n",
    "else:\n",
    "    message = \"\\033[1;32mNo Threat Detected\\033[0m\"  # Bold Green\n",
    "\n",
    "print(message)"
   ]
  }
 ],
 "metadata": {
  "kernelspec": {
   "display_name": "Python 3 (ipykernel)",
   "language": "python",
   "name": "python3"
  },
  "language_info": {
   "codemirror_mode": {
    "name": "ipython",
    "version": 3
   },
   "file_extension": ".py",
   "mimetype": "text/x-python",
   "name": "python",
   "nbconvert_exporter": "python",
   "pygments_lexer": "ipython3",
   "version": "3.12.7"
  }
 },
 "nbformat": 4,
 "nbformat_minor": 5
}
