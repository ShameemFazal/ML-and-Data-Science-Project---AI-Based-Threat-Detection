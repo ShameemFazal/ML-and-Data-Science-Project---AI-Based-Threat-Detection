{
 "cells": [
  {
   "cell_type": "code",
   "execution_count": 1,
   "id": "e92aaaf7-3198-4ab2-afff-b4c28d978b4e",
   "metadata": {},
   "outputs": [],
   "source": [
    "import pandas as pd"
   ]
  },
  {
   "cell_type": "code",
   "execution_count": 3,
   "id": "cbeb4392-2c5d-47f8-bcb1-8ada1394815a",
   "metadata": {},
   "outputs": [],
   "source": [
    "dataset=pd.read_csv(\"User_and_Admin_Activity_Data_1.csv\")"
   ]
  },
  {
   "cell_type": "markdown",
   "id": "5e32ffce-df3e-4bdb-b388-1577a408ec23",
   "metadata": {},
   "source": [
    "# Displaying Raw data"
   ]
  },
  {
   "cell_type": "code",
   "execution_count": 6,
   "id": "891c2de7-3787-48c0-a653-f8d4f1ca5488",
   "metadata": {
    "scrolled": true
   },
   "outputs": [
    {
     "data": {
      "text/html": [
       "<div>\n",
       "<style scoped>\n",
       "    .dataframe tbody tr th:only-of-type {\n",
       "        vertical-align: middle;\n",
       "    }\n",
       "\n",
       "    .dataframe tbody tr th {\n",
       "        vertical-align: top;\n",
       "    }\n",
       "\n",
       "    .dataframe thead th {\n",
       "        text-align: right;\n",
       "    }\n",
       "</style>\n",
       "<table border=\"1\" class=\"dataframe\">\n",
       "  <thead>\n",
       "    <tr style=\"text-align: right;\">\n",
       "      <th></th>\n",
       "      <th>CreationDate</th>\n",
       "      <th>RecordType</th>\n",
       "      <th>Operation</th>\n",
       "      <th>UserId</th>\n",
       "      <th>ResultStatus</th>\n",
       "      <th>Workload</th>\n",
       "      <th>ClientIP</th>\n",
       "      <th>LogonType</th>\n",
       "      <th>GeoLocation</th>\n",
       "      <th>ApplicationDisplayName</th>\n",
       "      <th>ObjectId</th>\n",
       "      <th>LogonError</th>\n",
       "      <th>IsThreat</th>\n",
       "    </tr>\n",
       "  </thead>\n",
       "  <tbody>\n",
       "    <tr>\n",
       "      <th>0</th>\n",
       "      <td>7/19/2025 0:37</td>\n",
       "      <td>3</td>\n",
       "      <td>MoveToDeletedItems</td>\n",
       "      <td>Amjath@spark1077.onmicrosoft.com</td>\n",
       "      <td>Succeeded</td>\n",
       "      <td>Exchange</td>\n",
       "      <td>203.28.245.168</td>\n",
       "      <td>0.0</td>\n",
       "      <td>NaN</td>\n",
       "      <td>NaN</td>\n",
       "      <td>NaN</td>\n",
       "      <td>NaN</td>\n",
       "      <td>NaN</td>\n",
       "    </tr>\n",
       "    <tr>\n",
       "      <th>1</th>\n",
       "      <td>7/19/2025 10:21</td>\n",
       "      <td>52</td>\n",
       "      <td>Search</td>\n",
       "      <td>ShameemMohamed@spark1077.onmicrosoft.com</td>\n",
       "      <td>NaN</td>\n",
       "      <td>SecurityComplianceCenter</td>\n",
       "      <td>NaN</td>\n",
       "      <td>NaN</td>\n",
       "      <td>NaN</td>\n",
       "      <td>NaN</td>\n",
       "      <td>NaN</td>\n",
       "      <td>NaN</td>\n",
       "      <td>NaN</td>\n",
       "    </tr>\n",
       "    <tr>\n",
       "      <th>2</th>\n",
       "      <td>7/19/2025 0:16</td>\n",
       "      <td>4</td>\n",
       "      <td>PageViewedExtended</td>\n",
       "      <td>affaan@spark1077.onmicrosoft.com</td>\n",
       "      <td>NaN</td>\n",
       "      <td>OneDrive</td>\n",
       "      <td>203.28.245.168</td>\n",
       "      <td>NaN</td>\n",
       "      <td>IND</td>\n",
       "      <td>Unknown</td>\n",
       "      <td>https://spark1077-my.sharepoint.com/personal/a...</td>\n",
       "      <td>NaN</td>\n",
       "      <td>NaN</td>\n",
       "    </tr>\n",
       "    <tr>\n",
       "      <th>3</th>\n",
       "      <td>7/19/2025 10:21</td>\n",
       "      <td>52</td>\n",
       "      <td>Search</td>\n",
       "      <td>ShameemMohamed@spark1077.onmicrosoft.com</td>\n",
       "      <td>NaN</td>\n",
       "      <td>SecurityComplianceCenter</td>\n",
       "      <td>NaN</td>\n",
       "      <td>NaN</td>\n",
       "      <td>NaN</td>\n",
       "      <td>NaN</td>\n",
       "      <td>NaN</td>\n",
       "      <td>NaN</td>\n",
       "      <td>NaN</td>\n",
       "    </tr>\n",
       "    <tr>\n",
       "      <th>4</th>\n",
       "      <td>7/18/2025 6:58</td>\n",
       "      <td>4</td>\n",
       "      <td>SignInEvent</td>\n",
       "      <td>fazalmahamood@spark1077.onmicrosoft.com</td>\n",
       "      <td>NaN</td>\n",
       "      <td>SharePoint</td>\n",
       "      <td>203.28.245.168</td>\n",
       "      <td>NaN</td>\n",
       "      <td>IND</td>\n",
       "      <td>Unknown</td>\n",
       "      <td>NaN</td>\n",
       "      <td>NaN</td>\n",
       "      <td>NaN</td>\n",
       "    </tr>\n",
       "    <tr>\n",
       "      <th>...</th>\n",
       "      <td>...</td>\n",
       "      <td>...</td>\n",
       "      <td>...</td>\n",
       "      <td>...</td>\n",
       "      <td>...</td>\n",
       "      <td>...</td>\n",
       "      <td>...</td>\n",
       "      <td>...</td>\n",
       "      <td>...</td>\n",
       "      <td>...</td>\n",
       "      <td>...</td>\n",
       "      <td>...</td>\n",
       "      <td>...</td>\n",
       "    </tr>\n",
       "    <tr>\n",
       "      <th>666</th>\n",
       "      <td>7/19/2025 0:39</td>\n",
       "      <td>15</td>\n",
       "      <td>UserLoggedIn</td>\n",
       "      <td>Amjath@spark1077.onmicrosoft.com</td>\n",
       "      <td>Success</td>\n",
       "      <td>AzureActiveDirectory</td>\n",
       "      <td>203.28.245.168</td>\n",
       "      <td>NaN</td>\n",
       "      <td>NaN</td>\n",
       "      <td>NaN</td>\n",
       "      <td>e03a13ee-9730-4cae-8525-47559c8cf18a</td>\n",
       "      <td>NaN</td>\n",
       "      <td>NaN</td>\n",
       "    </tr>\n",
       "    <tr>\n",
       "      <th>667</th>\n",
       "      <td>7/19/2025 0:59</td>\n",
       "      <td>6</td>\n",
       "      <td>FileAccessed</td>\n",
       "      <td>athif@spark1077.onmicrosoft.com</td>\n",
       "      <td>NaN</td>\n",
       "      <td>OneDrive</td>\n",
       "      <td>52.224.23.135</td>\n",
       "      <td>NaN</td>\n",
       "      <td>IND</td>\n",
       "      <td>WebExcel</td>\n",
       "      <td>https://spark1077-my.sharepoint.com/personal/a...</td>\n",
       "      <td>NaN</td>\n",
       "      <td>NaN</td>\n",
       "    </tr>\n",
       "    <tr>\n",
       "      <th>668</th>\n",
       "      <td>7/19/2025 1:09</td>\n",
       "      <td>15</td>\n",
       "      <td>UserLoginFailed</td>\n",
       "      <td>Athif@spark1077.onmicrosoft.com</td>\n",
       "      <td>Success</td>\n",
       "      <td>AzureActiveDirectory</td>\n",
       "      <td>203.28.245.168</td>\n",
       "      <td>NaN</td>\n",
       "      <td>NaN</td>\n",
       "      <td>NaN</td>\n",
       "      <td>4765445b-32c6-49b0-83e6-1d93765276ca</td>\n",
       "      <td>InvalidUserNameOrPassword</td>\n",
       "      <td>NaN</td>\n",
       "    </tr>\n",
       "    <tr>\n",
       "      <th>669</th>\n",
       "      <td>7/19/2025 0:59</td>\n",
       "      <td>6</td>\n",
       "      <td>FileAccessed</td>\n",
       "      <td>athif@spark1077.onmicrosoft.com</td>\n",
       "      <td>NaN</td>\n",
       "      <td>OneDrive</td>\n",
       "      <td>74.235.25.96</td>\n",
       "      <td>NaN</td>\n",
       "      <td>IND</td>\n",
       "      <td>WebExcel</td>\n",
       "      <td>https://spark1077-my.sharepoint.com/personal/a...</td>\n",
       "      <td>NaN</td>\n",
       "      <td>NaN</td>\n",
       "    </tr>\n",
       "    <tr>\n",
       "      <th>670</th>\n",
       "      <td>7/18/2025 23:56</td>\n",
       "      <td>6</td>\n",
       "      <td>FileAccessed</td>\n",
       "      <td>suhail@spark1077.onmicrosoft.com</td>\n",
       "      <td>NaN</td>\n",
       "      <td>OneDrive</td>\n",
       "      <td>52.108.230.14</td>\n",
       "      <td>NaN</td>\n",
       "      <td>IND</td>\n",
       "      <td>WebWord</td>\n",
       "      <td>https://spark1077-my.sharepoint.com/personal/s...</td>\n",
       "      <td>NaN</td>\n",
       "      <td>NaN</td>\n",
       "    </tr>\n",
       "  </tbody>\n",
       "</table>\n",
       "<p>671 rows × 13 columns</p>\n",
       "</div>"
      ],
      "text/plain": [
       "        CreationDate  RecordType           Operation  \\\n",
       "0     7/19/2025 0:37           3  MoveToDeletedItems   \n",
       "1    7/19/2025 10:21          52              Search   \n",
       "2     7/19/2025 0:16           4  PageViewedExtended   \n",
       "3    7/19/2025 10:21          52              Search   \n",
       "4     7/18/2025 6:58           4         SignInEvent   \n",
       "..               ...         ...                 ...   \n",
       "666   7/19/2025 0:39          15        UserLoggedIn   \n",
       "667   7/19/2025 0:59           6        FileAccessed   \n",
       "668   7/19/2025 1:09          15     UserLoginFailed   \n",
       "669   7/19/2025 0:59           6        FileAccessed   \n",
       "670  7/18/2025 23:56           6        FileAccessed   \n",
       "\n",
       "                                       UserId ResultStatus  \\\n",
       "0            Amjath@spark1077.onmicrosoft.com    Succeeded   \n",
       "1    ShameemMohamed@spark1077.onmicrosoft.com          NaN   \n",
       "2            affaan@spark1077.onmicrosoft.com          NaN   \n",
       "3    ShameemMohamed@spark1077.onmicrosoft.com          NaN   \n",
       "4     fazalmahamood@spark1077.onmicrosoft.com          NaN   \n",
       "..                                        ...          ...   \n",
       "666          Amjath@spark1077.onmicrosoft.com      Success   \n",
       "667           athif@spark1077.onmicrosoft.com          NaN   \n",
       "668           Athif@spark1077.onmicrosoft.com      Success   \n",
       "669           athif@spark1077.onmicrosoft.com          NaN   \n",
       "670          suhail@spark1077.onmicrosoft.com          NaN   \n",
       "\n",
       "                     Workload        ClientIP  LogonType GeoLocation  \\\n",
       "0                    Exchange  203.28.245.168        0.0         NaN   \n",
       "1    SecurityComplianceCenter             NaN        NaN         NaN   \n",
       "2                    OneDrive  203.28.245.168        NaN         IND   \n",
       "3    SecurityComplianceCenter             NaN        NaN         NaN   \n",
       "4                  SharePoint  203.28.245.168        NaN         IND   \n",
       "..                        ...             ...        ...         ...   \n",
       "666      AzureActiveDirectory  203.28.245.168        NaN         NaN   \n",
       "667                  OneDrive   52.224.23.135        NaN         IND   \n",
       "668      AzureActiveDirectory  203.28.245.168        NaN         NaN   \n",
       "669                  OneDrive    74.235.25.96        NaN         IND   \n",
       "670                  OneDrive   52.108.230.14        NaN         IND   \n",
       "\n",
       "    ApplicationDisplayName                                           ObjectId  \\\n",
       "0                      NaN                                                NaN   \n",
       "1                      NaN                                                NaN   \n",
       "2                  Unknown  https://spark1077-my.sharepoint.com/personal/a...   \n",
       "3                      NaN                                                NaN   \n",
       "4                  Unknown                                                NaN   \n",
       "..                     ...                                                ...   \n",
       "666                    NaN               e03a13ee-9730-4cae-8525-47559c8cf18a   \n",
       "667               WebExcel  https://spark1077-my.sharepoint.com/personal/a...   \n",
       "668                    NaN               4765445b-32c6-49b0-83e6-1d93765276ca   \n",
       "669               WebExcel  https://spark1077-my.sharepoint.com/personal/a...   \n",
       "670                WebWord  https://spark1077-my.sharepoint.com/personal/s...   \n",
       "\n",
       "                    LogonError  IsThreat  \n",
       "0                          NaN       NaN  \n",
       "1                          NaN       NaN  \n",
       "2                          NaN       NaN  \n",
       "3                          NaN       NaN  \n",
       "4                          NaN       NaN  \n",
       "..                         ...       ...  \n",
       "666                        NaN       NaN  \n",
       "667                        NaN       NaN  \n",
       "668  InvalidUserNameOrPassword       NaN  \n",
       "669                        NaN       NaN  \n",
       "670                        NaN       NaN  \n",
       "\n",
       "[671 rows x 13 columns]"
      ]
     },
     "execution_count": 6,
     "metadata": {},
     "output_type": "execute_result"
    }
   ],
   "source": [
    "dataset"
   ]
  },
  {
   "cell_type": "markdown",
   "id": "d4e44f48-8078-40e5-81ad-8f52ebf07991",
   "metadata": {},
   "source": [
    "# Basic Dataset Information"
   ]
  },
  {
   "cell_type": "code",
   "execution_count": 9,
   "id": "52df7ea3-a996-42df-96ac-85de8e679eac",
   "metadata": {},
   "outputs": [
    {
     "name": "stdout",
     "output_type": "stream",
     "text": [
      "<class 'pandas.core.frame.DataFrame'>\n",
      "RangeIndex: 671 entries, 0 to 670\n",
      "Data columns (total 13 columns):\n",
      " #   Column                  Non-Null Count  Dtype  \n",
      "---  ------                  --------------  -----  \n",
      " 0   CreationDate            671 non-null    object \n",
      " 1   RecordType              671 non-null    int64  \n",
      " 2   Operation               671 non-null    object \n",
      " 3   UserId                  671 non-null    object \n",
      " 4   ResultStatus            272 non-null    object \n",
      " 5   Workload                671 non-null    object \n",
      " 6   ClientIP                553 non-null    object \n",
      " 7   LogonType               97 non-null     float64\n",
      " 8   GeoLocation             319 non-null    object \n",
      " 9   ApplicationDisplayName  319 non-null    object \n",
      " 10  ObjectId                491 non-null    object \n",
      " 11  LogonError              45 non-null     object \n",
      " 12  IsThreat                0 non-null      float64\n",
      "dtypes: float64(2), int64(1), object(10)\n",
      "memory usage: 68.3+ KB\n"
     ]
    }
   ],
   "source": [
    "dataset.info()"
   ]
  },
  {
   "cell_type": "markdown",
   "id": "08241d64-bb06-4b37-b295-c8882992c482",
   "metadata": {},
   "source": [
    "# Statistical Summary of Dataset"
   ]
  },
  {
   "cell_type": "code",
   "execution_count": 12,
   "id": "4c127248-02b9-41aa-9e79-90972c234a76",
   "metadata": {},
   "outputs": [
    {
     "data": {
      "text/html": [
       "<div>\n",
       "<style scoped>\n",
       "    .dataframe tbody tr th:only-of-type {\n",
       "        vertical-align: middle;\n",
       "    }\n",
       "\n",
       "    .dataframe tbody tr th {\n",
       "        vertical-align: top;\n",
       "    }\n",
       "\n",
       "    .dataframe thead th {\n",
       "        text-align: right;\n",
       "    }\n",
       "</style>\n",
       "<table border=\"1\" class=\"dataframe\">\n",
       "  <thead>\n",
       "    <tr style=\"text-align: right;\">\n",
       "      <th></th>\n",
       "      <th>RecordType</th>\n",
       "      <th>LogonType</th>\n",
       "      <th>IsThreat</th>\n",
       "    </tr>\n",
       "  </thead>\n",
       "  <tbody>\n",
       "    <tr>\n",
       "      <th>count</th>\n",
       "      <td>671.000000</td>\n",
       "      <td>97.0</td>\n",
       "      <td>0.0</td>\n",
       "    </tr>\n",
       "    <tr>\n",
       "      <th>mean</th>\n",
       "      <td>24.198212</td>\n",
       "      <td>0.0</td>\n",
       "      <td>NaN</td>\n",
       "    </tr>\n",
       "    <tr>\n",
       "      <th>std</th>\n",
       "      <td>43.834264</td>\n",
       "      <td>0.0</td>\n",
       "      <td>NaN</td>\n",
       "    </tr>\n",
       "    <tr>\n",
       "      <th>min</th>\n",
       "      <td>2.000000</td>\n",
       "      <td>0.0</td>\n",
       "      <td>NaN</td>\n",
       "    </tr>\n",
       "    <tr>\n",
       "      <th>25%</th>\n",
       "      <td>6.000000</td>\n",
       "      <td>0.0</td>\n",
       "      <td>NaN</td>\n",
       "    </tr>\n",
       "    <tr>\n",
       "      <th>50%</th>\n",
       "      <td>15.000000</td>\n",
       "      <td>0.0</td>\n",
       "      <td>NaN</td>\n",
       "    </tr>\n",
       "    <tr>\n",
       "      <th>75%</th>\n",
       "      <td>18.000000</td>\n",
       "      <td>0.0</td>\n",
       "      <td>NaN</td>\n",
       "    </tr>\n",
       "    <tr>\n",
       "      <th>max</th>\n",
       "      <td>295.000000</td>\n",
       "      <td>0.0</td>\n",
       "      <td>NaN</td>\n",
       "    </tr>\n",
       "  </tbody>\n",
       "</table>\n",
       "</div>"
      ],
      "text/plain": [
       "       RecordType  LogonType  IsThreat\n",
       "count  671.000000       97.0       0.0\n",
       "mean    24.198212        0.0       NaN\n",
       "std     43.834264        0.0       NaN\n",
       "min      2.000000        0.0       NaN\n",
       "25%      6.000000        0.0       NaN\n",
       "50%     15.000000        0.0       NaN\n",
       "75%     18.000000        0.0       NaN\n",
       "max    295.000000        0.0       NaN"
      ]
     },
     "execution_count": 12,
     "metadata": {},
     "output_type": "execute_result"
    }
   ],
   "source": [
    "dataset.describe()"
   ]
  },
  {
   "cell_type": "markdown",
   "id": "7d2f8590-9873-4c6f-9fa0-b3a43c041167",
   "metadata": {},
   "source": [
    "#  Checking Null Values in Dataset columns before Data Preprocessing"
   ]
  },
  {
   "cell_type": "code",
   "execution_count": 15,
   "id": "26d5cc9d-9252-48bf-916c-0623a9345627",
   "metadata": {},
   "outputs": [
    {
     "data": {
      "text/plain": [
       "CreationDate                0\n",
       "RecordType                  0\n",
       "Operation                   0\n",
       "UserId                      0\n",
       "ResultStatus              399\n",
       "Workload                    0\n",
       "ClientIP                  118\n",
       "LogonType                 574\n",
       "GeoLocation               352\n",
       "ApplicationDisplayName    352\n",
       "ObjectId                  180\n",
       "LogonError                626\n",
       "IsThreat                  671\n",
       "dtype: int64"
      ]
     },
     "execution_count": 15,
     "metadata": {},
     "output_type": "execute_result"
    }
   ],
   "source": [
    "dataset.isnull().sum()"
   ]
  },
  {
   "cell_type": "markdown",
   "id": "e6772512-a413-43e7-833e-b74dcfc17683",
   "metadata": {},
   "source": [
    "# Shape of Dataset (returns number of rows and columns)"
   ]
  },
  {
   "cell_type": "code",
   "execution_count": 18,
   "id": "14cb500a-13d7-4071-81b8-e67f5007055b",
   "metadata": {},
   "outputs": [
    {
     "data": {
      "text/plain": [
       "(671, 13)"
      ]
     },
     "execution_count": 18,
     "metadata": {},
     "output_type": "execute_result"
    }
   ],
   "source": [
    "dataset.shape"
   ]
  },
  {
   "cell_type": "markdown",
   "id": "57ca0de8-4b7f-437a-b5dd-471e79347c16",
   "metadata": {},
   "source": [
    "# we are replacing missing values of dataset column 'LogonError' with 'Success'"
   ]
  },
  {
   "cell_type": "code",
   "execution_count": 21,
   "id": "bbfc6956-6ffb-4121-b29d-8db90f224ee8",
   "metadata": {},
   "outputs": [
    {
     "data": {
      "text/plain": [
       "0                            NaN\n",
       "1                            NaN\n",
       "2                            NaN\n",
       "3                            NaN\n",
       "4                            NaN\n",
       "                 ...            \n",
       "666                          NaN\n",
       "667                          NaN\n",
       "668    InvalidUserNameOrPassword\n",
       "669                          NaN\n",
       "670                          NaN\n",
       "Name: LogonError, Length: 671, dtype: object"
      ]
     },
     "execution_count": 21,
     "metadata": {},
     "output_type": "execute_result"
    }
   ],
   "source": [
    "dataset[\"LogonError\"]"
   ]
  },
  {
   "cell_type": "code",
   "execution_count": 23,
   "id": "9b45d8c4-77a0-4523-9823-b0113523db20",
   "metadata": {},
   "outputs": [],
   "source": [
    "dataset[\"LogonError\"].fillna('Success',inplace=True)"
   ]
  },
  {
   "cell_type": "code",
   "execution_count": 25,
   "id": "6ecb4262-8079-4f22-aa5c-625bc7ca3df9",
   "metadata": {},
   "outputs": [
    {
     "data": {
      "text/plain": [
       "0                        Success\n",
       "1                        Success\n",
       "2                        Success\n",
       "3                        Success\n",
       "4                        Success\n",
       "                 ...            \n",
       "666                      Success\n",
       "667                      Success\n",
       "668    InvalidUserNameOrPassword\n",
       "669                      Success\n",
       "670                      Success\n",
       "Name: LogonError, Length: 671, dtype: object"
      ]
     },
     "execution_count": 25,
     "metadata": {},
     "output_type": "execute_result"
    }
   ],
   "source": [
    "dataset[\"LogonError\"]"
   ]
  },
  {
   "cell_type": "code",
   "execution_count": 27,
   "id": "10009a61-1cef-4cf3-a97c-2d3c3b69b67c",
   "metadata": {},
   "outputs": [
    {
     "data": {
      "text/html": [
       "<div>\n",
       "<style scoped>\n",
       "    .dataframe tbody tr th:only-of-type {\n",
       "        vertical-align: middle;\n",
       "    }\n",
       "\n",
       "    .dataframe tbody tr th {\n",
       "        vertical-align: top;\n",
       "    }\n",
       "\n",
       "    .dataframe thead th {\n",
       "        text-align: right;\n",
       "    }\n",
       "</style>\n",
       "<table border=\"1\" class=\"dataframe\">\n",
       "  <thead>\n",
       "    <tr style=\"text-align: right;\">\n",
       "      <th></th>\n",
       "      <th>CreationDate</th>\n",
       "      <th>RecordType</th>\n",
       "      <th>Operation</th>\n",
       "      <th>UserId</th>\n",
       "      <th>ResultStatus</th>\n",
       "      <th>Workload</th>\n",
       "      <th>ClientIP</th>\n",
       "      <th>LogonType</th>\n",
       "      <th>GeoLocation</th>\n",
       "      <th>ApplicationDisplayName</th>\n",
       "      <th>ObjectId</th>\n",
       "      <th>LogonError</th>\n",
       "      <th>IsThreat</th>\n",
       "    </tr>\n",
       "  </thead>\n",
       "  <tbody>\n",
       "    <tr>\n",
       "      <th>0</th>\n",
       "      <td>7/19/2025 0:37</td>\n",
       "      <td>3</td>\n",
       "      <td>MoveToDeletedItems</td>\n",
       "      <td>Amjath@spark1077.onmicrosoft.com</td>\n",
       "      <td>Succeeded</td>\n",
       "      <td>Exchange</td>\n",
       "      <td>203.28.245.168</td>\n",
       "      <td>0.0</td>\n",
       "      <td>NaN</td>\n",
       "      <td>NaN</td>\n",
       "      <td>NaN</td>\n",
       "      <td>Success</td>\n",
       "      <td>NaN</td>\n",
       "    </tr>\n",
       "    <tr>\n",
       "      <th>1</th>\n",
       "      <td>7/19/2025 10:21</td>\n",
       "      <td>52</td>\n",
       "      <td>Search</td>\n",
       "      <td>ShameemMohamed@spark1077.onmicrosoft.com</td>\n",
       "      <td>NaN</td>\n",
       "      <td>SecurityComplianceCenter</td>\n",
       "      <td>NaN</td>\n",
       "      <td>NaN</td>\n",
       "      <td>NaN</td>\n",
       "      <td>NaN</td>\n",
       "      <td>NaN</td>\n",
       "      <td>Success</td>\n",
       "      <td>NaN</td>\n",
       "    </tr>\n",
       "    <tr>\n",
       "      <th>2</th>\n",
       "      <td>7/19/2025 0:16</td>\n",
       "      <td>4</td>\n",
       "      <td>PageViewedExtended</td>\n",
       "      <td>affaan@spark1077.onmicrosoft.com</td>\n",
       "      <td>NaN</td>\n",
       "      <td>OneDrive</td>\n",
       "      <td>203.28.245.168</td>\n",
       "      <td>NaN</td>\n",
       "      <td>IND</td>\n",
       "      <td>Unknown</td>\n",
       "      <td>https://spark1077-my.sharepoint.com/personal/a...</td>\n",
       "      <td>Success</td>\n",
       "      <td>NaN</td>\n",
       "    </tr>\n",
       "    <tr>\n",
       "      <th>3</th>\n",
       "      <td>7/19/2025 10:21</td>\n",
       "      <td>52</td>\n",
       "      <td>Search</td>\n",
       "      <td>ShameemMohamed@spark1077.onmicrosoft.com</td>\n",
       "      <td>NaN</td>\n",
       "      <td>SecurityComplianceCenter</td>\n",
       "      <td>NaN</td>\n",
       "      <td>NaN</td>\n",
       "      <td>NaN</td>\n",
       "      <td>NaN</td>\n",
       "      <td>NaN</td>\n",
       "      <td>Success</td>\n",
       "      <td>NaN</td>\n",
       "    </tr>\n",
       "    <tr>\n",
       "      <th>4</th>\n",
       "      <td>7/18/2025 6:58</td>\n",
       "      <td>4</td>\n",
       "      <td>SignInEvent</td>\n",
       "      <td>fazalmahamood@spark1077.onmicrosoft.com</td>\n",
       "      <td>NaN</td>\n",
       "      <td>SharePoint</td>\n",
       "      <td>203.28.245.168</td>\n",
       "      <td>NaN</td>\n",
       "      <td>IND</td>\n",
       "      <td>Unknown</td>\n",
       "      <td>NaN</td>\n",
       "      <td>Success</td>\n",
       "      <td>NaN</td>\n",
       "    </tr>\n",
       "    <tr>\n",
       "      <th>...</th>\n",
       "      <td>...</td>\n",
       "      <td>...</td>\n",
       "      <td>...</td>\n",
       "      <td>...</td>\n",
       "      <td>...</td>\n",
       "      <td>...</td>\n",
       "      <td>...</td>\n",
       "      <td>...</td>\n",
       "      <td>...</td>\n",
       "      <td>...</td>\n",
       "      <td>...</td>\n",
       "      <td>...</td>\n",
       "      <td>...</td>\n",
       "    </tr>\n",
       "    <tr>\n",
       "      <th>666</th>\n",
       "      <td>7/19/2025 0:39</td>\n",
       "      <td>15</td>\n",
       "      <td>UserLoggedIn</td>\n",
       "      <td>Amjath@spark1077.onmicrosoft.com</td>\n",
       "      <td>Success</td>\n",
       "      <td>AzureActiveDirectory</td>\n",
       "      <td>203.28.245.168</td>\n",
       "      <td>NaN</td>\n",
       "      <td>NaN</td>\n",
       "      <td>NaN</td>\n",
       "      <td>e03a13ee-9730-4cae-8525-47559c8cf18a</td>\n",
       "      <td>Success</td>\n",
       "      <td>NaN</td>\n",
       "    </tr>\n",
       "    <tr>\n",
       "      <th>667</th>\n",
       "      <td>7/19/2025 0:59</td>\n",
       "      <td>6</td>\n",
       "      <td>FileAccessed</td>\n",
       "      <td>athif@spark1077.onmicrosoft.com</td>\n",
       "      <td>NaN</td>\n",
       "      <td>OneDrive</td>\n",
       "      <td>52.224.23.135</td>\n",
       "      <td>NaN</td>\n",
       "      <td>IND</td>\n",
       "      <td>WebExcel</td>\n",
       "      <td>https://spark1077-my.sharepoint.com/personal/a...</td>\n",
       "      <td>Success</td>\n",
       "      <td>NaN</td>\n",
       "    </tr>\n",
       "    <tr>\n",
       "      <th>668</th>\n",
       "      <td>7/19/2025 1:09</td>\n",
       "      <td>15</td>\n",
       "      <td>UserLoginFailed</td>\n",
       "      <td>Athif@spark1077.onmicrosoft.com</td>\n",
       "      <td>Success</td>\n",
       "      <td>AzureActiveDirectory</td>\n",
       "      <td>203.28.245.168</td>\n",
       "      <td>NaN</td>\n",
       "      <td>NaN</td>\n",
       "      <td>NaN</td>\n",
       "      <td>4765445b-32c6-49b0-83e6-1d93765276ca</td>\n",
       "      <td>InvalidUserNameOrPassword</td>\n",
       "      <td>NaN</td>\n",
       "    </tr>\n",
       "    <tr>\n",
       "      <th>669</th>\n",
       "      <td>7/19/2025 0:59</td>\n",
       "      <td>6</td>\n",
       "      <td>FileAccessed</td>\n",
       "      <td>athif@spark1077.onmicrosoft.com</td>\n",
       "      <td>NaN</td>\n",
       "      <td>OneDrive</td>\n",
       "      <td>74.235.25.96</td>\n",
       "      <td>NaN</td>\n",
       "      <td>IND</td>\n",
       "      <td>WebExcel</td>\n",
       "      <td>https://spark1077-my.sharepoint.com/personal/a...</td>\n",
       "      <td>Success</td>\n",
       "      <td>NaN</td>\n",
       "    </tr>\n",
       "    <tr>\n",
       "      <th>670</th>\n",
       "      <td>7/18/2025 23:56</td>\n",
       "      <td>6</td>\n",
       "      <td>FileAccessed</td>\n",
       "      <td>suhail@spark1077.onmicrosoft.com</td>\n",
       "      <td>NaN</td>\n",
       "      <td>OneDrive</td>\n",
       "      <td>52.108.230.14</td>\n",
       "      <td>NaN</td>\n",
       "      <td>IND</td>\n",
       "      <td>WebWord</td>\n",
       "      <td>https://spark1077-my.sharepoint.com/personal/s...</td>\n",
       "      <td>Success</td>\n",
       "      <td>NaN</td>\n",
       "    </tr>\n",
       "  </tbody>\n",
       "</table>\n",
       "<p>671 rows × 13 columns</p>\n",
       "</div>"
      ],
      "text/plain": [
       "        CreationDate  RecordType           Operation  \\\n",
       "0     7/19/2025 0:37           3  MoveToDeletedItems   \n",
       "1    7/19/2025 10:21          52              Search   \n",
       "2     7/19/2025 0:16           4  PageViewedExtended   \n",
       "3    7/19/2025 10:21          52              Search   \n",
       "4     7/18/2025 6:58           4         SignInEvent   \n",
       "..               ...         ...                 ...   \n",
       "666   7/19/2025 0:39          15        UserLoggedIn   \n",
       "667   7/19/2025 0:59           6        FileAccessed   \n",
       "668   7/19/2025 1:09          15     UserLoginFailed   \n",
       "669   7/19/2025 0:59           6        FileAccessed   \n",
       "670  7/18/2025 23:56           6        FileAccessed   \n",
       "\n",
       "                                       UserId ResultStatus  \\\n",
       "0            Amjath@spark1077.onmicrosoft.com    Succeeded   \n",
       "1    ShameemMohamed@spark1077.onmicrosoft.com          NaN   \n",
       "2            affaan@spark1077.onmicrosoft.com          NaN   \n",
       "3    ShameemMohamed@spark1077.onmicrosoft.com          NaN   \n",
       "4     fazalmahamood@spark1077.onmicrosoft.com          NaN   \n",
       "..                                        ...          ...   \n",
       "666          Amjath@spark1077.onmicrosoft.com      Success   \n",
       "667           athif@spark1077.onmicrosoft.com          NaN   \n",
       "668           Athif@spark1077.onmicrosoft.com      Success   \n",
       "669           athif@spark1077.onmicrosoft.com          NaN   \n",
       "670          suhail@spark1077.onmicrosoft.com          NaN   \n",
       "\n",
       "                     Workload        ClientIP  LogonType GeoLocation  \\\n",
       "0                    Exchange  203.28.245.168        0.0         NaN   \n",
       "1    SecurityComplianceCenter             NaN        NaN         NaN   \n",
       "2                    OneDrive  203.28.245.168        NaN         IND   \n",
       "3    SecurityComplianceCenter             NaN        NaN         NaN   \n",
       "4                  SharePoint  203.28.245.168        NaN         IND   \n",
       "..                        ...             ...        ...         ...   \n",
       "666      AzureActiveDirectory  203.28.245.168        NaN         NaN   \n",
       "667                  OneDrive   52.224.23.135        NaN         IND   \n",
       "668      AzureActiveDirectory  203.28.245.168        NaN         NaN   \n",
       "669                  OneDrive    74.235.25.96        NaN         IND   \n",
       "670                  OneDrive   52.108.230.14        NaN         IND   \n",
       "\n",
       "    ApplicationDisplayName                                           ObjectId  \\\n",
       "0                      NaN                                                NaN   \n",
       "1                      NaN                                                NaN   \n",
       "2                  Unknown  https://spark1077-my.sharepoint.com/personal/a...   \n",
       "3                      NaN                                                NaN   \n",
       "4                  Unknown                                                NaN   \n",
       "..                     ...                                                ...   \n",
       "666                    NaN               e03a13ee-9730-4cae-8525-47559c8cf18a   \n",
       "667               WebExcel  https://spark1077-my.sharepoint.com/personal/a...   \n",
       "668                    NaN               4765445b-32c6-49b0-83e6-1d93765276ca   \n",
       "669               WebExcel  https://spark1077-my.sharepoint.com/personal/a...   \n",
       "670                WebWord  https://spark1077-my.sharepoint.com/personal/s...   \n",
       "\n",
       "                    LogonError  IsThreat  \n",
       "0                      Success       NaN  \n",
       "1                      Success       NaN  \n",
       "2                      Success       NaN  \n",
       "3                      Success       NaN  \n",
       "4                      Success       NaN  \n",
       "..                         ...       ...  \n",
       "666                    Success       NaN  \n",
       "667                    Success       NaN  \n",
       "668  InvalidUserNameOrPassword       NaN  \n",
       "669                    Success       NaN  \n",
       "670                    Success       NaN  \n",
       "\n",
       "[671 rows x 13 columns]"
      ]
     },
     "execution_count": 27,
     "metadata": {},
     "output_type": "execute_result"
    }
   ],
   "source": [
    "dataset"
   ]
  },
  {
   "cell_type": "markdown",
   "id": "08ff23ba-b651-44f2-830b-f410d1ae0d5e",
   "metadata": {},
   "source": [
    "# Python script that updates the dataset columns 'ClientIP' and 'GeoLocation' with malicious values when LogonError matches any of the specified conditions (IdsLocked, InvalidUserNameOrPassword, or UserStrongAuthClientAuthNRequiredInterrupt):"
   ]
  },
  {
   "cell_type": "code",
   "execution_count": 30,
   "id": "87db54d1-3522-4db4-9a89-447d026bab3e",
   "metadata": {},
   "outputs": [
    {
     "name": "stdout",
     "output_type": "stream",
     "text": [
      "192.168.1.100\n",
      "CHN\n",
      "['IdsLocked', 'InvalidUserNameOrPassword', 'UserStrongAuthClientAuthNRequiredInterrupt']\n"
     ]
    }
   ],
   "source": [
    "# Define malicious and genuine values\n",
    "MALICIOUS_IP = \"192.168.1.100\"  # Replace with   malicious IP\n",
    "MALICIOUS_COUNTRY_CODE = \"CHN\"   # Replace with   malicious country code (e.g., \"RU\", \"CN\")\n",
    "GENUINE_COUNTRY = \"IND\"  # Default country for genuine IPs\n",
    "\n",
    "# List of LogonError values that trigger updates\n",
    "MALICIOUS_LOGON_ERRORS = [\n",
    "    \"IdsLocked\",\n",
    "    \"InvalidUserNameOrPassword\",\n",
    "    \"UserStrongAuthClientAuthNRequiredInterrupt\"\n",
    "]\n",
    "print(MALICIOUS_IP)\n",
    "print(MALICIOUS_COUNTRY_CODE)\n",
    "print(MALICIOUS_LOGON_ERRORS)\n",
    "\n",
    "dataset.loc[dataset['LogonError'].isin(MALICIOUS_LOGON_ERRORS), 'ClientIP'] = MALICIOUS_IP\n",
    "dataset.loc[dataset['LogonError'].isin(MALICIOUS_LOGON_ERRORS), 'GeoLocation'] = MALICIOUS_COUNTRY_CODE\n",
    "\n"
   ]
  },
  {
   "cell_type": "markdown",
   "id": "3cb9b70e-ee03-4c3a-a78b-96a5d1bd3c16",
   "metadata": {},
   "source": [
    "# Python script that updates the dataset columns 'ClientIP' and 'GeoLocation' with genuine IP values and Geolocation when LogonError DOES NOT matches any of the specified conditions (IdsLocked, InvalidUserNameOrPassword, or UserStrongAuthClientAuthNRequiredInterrupt):"
   ]
  },
  {
   "cell_type": "code",
   "execution_count": 33,
   "id": "331b2e6d-5402-4422-84fd-e023be92efdc",
   "metadata": {},
   "outputs": [],
   "source": [
    "import random\n",
    "\n",
    "# Function to generate a random genuine IP \n",
    "def generate_genuine_ip():\n",
    "    return f\"{random.randint(1, 255)}.{random.randint(1, 255)}.{random.randint(1, 255)}.{random.randint(1, 255)}\"\n",
    "\n",
    "mask_malicious = dataset['LogonError'].isin(MALICIOUS_LOGON_ERRORS)\n",
    "\n",
    "mask_genuine = (~mask_malicious) & (dataset['ClientIP'].isna())\n",
    "dataset.loc[mask_genuine, 'ClientIP'] = dataset.loc[mask_genuine, 'ClientIP'].apply(lambda x: generate_genuine_ip())\n",
    "dataset.loc[mask_genuine, 'GeoLocation'] = GENUINE_COUNTRY\n",
    "\n",
    "\n"
   ]
  },
  {
   "cell_type": "code",
   "execution_count": 35,
   "id": "59be8cde-501b-4b1d-bdf2-518fe8edd47e",
   "metadata": {},
   "outputs": [
    {
     "data": {
      "text/plain": [
       "CreationDate                0\n",
       "RecordType                  0\n",
       "Operation                   0\n",
       "UserId                      0\n",
       "ResultStatus              399\n",
       "Workload                    0\n",
       "ClientIP                    0\n",
       "LogonType                 574\n",
       "GeoLocation               189\n",
       "ApplicationDisplayName    352\n",
       "ObjectId                  180\n",
       "LogonError                  0\n",
       "IsThreat                  671\n",
       "dtype: int64"
      ]
     },
     "execution_count": 35,
     "metadata": {},
     "output_type": "execute_result"
    }
   ],
   "source": [
    "dataset.isnull().sum()"
   ]
  },
  {
   "cell_type": "markdown",
   "id": "fbf027a9-705e-4697-8e9d-f87c69da4a34",
   "metadata": {},
   "source": [
    "# Python script that updates the dataset column 'GeoLocation' with 'IND' when LogonError has value 'Success'"
   ]
  },
  {
   "cell_type": "code",
   "execution_count": 38,
   "id": "3e0a312b-76d6-482b-a338-feca15be0699",
   "metadata": {},
   "outputs": [],
   "source": [
    "LOGON_ERRORS = [\"Success\"]\n",
    "dataset.loc[dataset['LogonError'].isin(LOGON_ERRORS), 'GeoLocation'] = \"IND\""
   ]
  },
  {
   "cell_type": "markdown",
   "id": "b97166d3-549f-45ee-a330-fcac04702111",
   "metadata": {},
   "source": [
    "#  Checking  Null Values of one specific Dataset column"
   ]
  },
  {
   "cell_type": "code",
   "execution_count": 41,
   "id": "0f26bfa4-25a3-4724-ad5e-c973df67e9fb",
   "metadata": {},
   "outputs": [
    {
     "data": {
      "text/plain": [
       "352"
      ]
     },
     "execution_count": 41,
     "metadata": {},
     "output_type": "execute_result"
    }
   ],
   "source": [
    "dataset['ApplicationDisplayName'].isnull().sum()"
   ]
  },
  {
   "cell_type": "markdown",
   "id": "197a8b48-cdf0-4cea-8487-d238c0025904",
   "metadata": {},
   "source": [
    "# Updating missing values in a column 'ApplicationDisplayName' based on values of another column 'ObjectId'"
   ]
  },
  {
   "cell_type": "code",
   "execution_count": 44,
   "id": "149fbccb-f5c3-4861-863c-6730ec1c4c3b",
   "metadata": {},
   "outputs": [],
   "source": [
    "# Assuming you have a DataFrame named 'df' with 'ObjectId' and 'ApplicationDisplayName' columns\n",
    "def update_application_display_name(dataset):\n",
    "    # Make a copy to avoid SettingWithCopyWarning\n",
    "    dataset = dataset.copy()\n",
    "    \n",
    "    # Check if ObjectId ends with specific extensions and update ApplicationDisplayName accordingly\n",
    "    dataset.loc[dataset['ObjectId'].str.endswith('.docx',na=False), 'ApplicationDisplayName'] = 'WebWord'\n",
    "    dataset.loc[dataset['ObjectId'].str.endswith('.xlsx',na=False), 'ApplicationDisplayName'] = 'WebExcel'\n",
    "    dataset.loc[dataset['ObjectId'].str.endswith('.pptx',na=False), 'ApplicationDisplayName'] = 'WebPowerPoint'\n",
    "    dataset.loc[dataset['ObjectId'].str.endswith('.aspx',na=False), 'ApplicationDisplayName'] = 'OneDrive'\n",
    "    \n",
    "    return dataset\n",
    "\n",
    "# Example usage:\n",
    "dataset = update_application_display_name(dataset)\n"
   ]
  },
  {
   "cell_type": "markdown",
   "id": "d4e2acb3-2717-4e57-bd25-c90b55767048",
   "metadata": {},
   "source": [
    "# Finding a count of a column that has a particular value"
   ]
  },
  {
   "cell_type": "code",
   "execution_count": 47,
   "id": "d300226a-df93-4fde-8bc2-209a928fa025",
   "metadata": {},
   "outputs": [
    {
     "data": {
      "text/plain": [
       "44"
      ]
     },
     "execution_count": 47,
     "metadata": {},
     "output_type": "execute_result"
    }
   ],
   "source": [
    "dataset['ApplicationDisplayName'].value_counts()['Unknown']"
   ]
  },
  {
   "cell_type": "markdown",
   "id": "deb91af8-9901-400c-9984-41ecd66500ee",
   "metadata": {},
   "source": [
    "# Updating a column based on two conditions "
   ]
  },
  {
   "cell_type": "code",
   "execution_count": 50,
   "id": "24ac190f-6505-43e5-966c-871d958f45dd",
   "metadata": {},
   "outputs": [],
   "source": [
    "dataset.loc[(dataset['Workload'] == 'OneDrive') & (dataset['ApplicationDisplayName'] == 'Unknown'), 'ApplicationDisplayName'] = 'OneDrive'\n",
    "dataset.loc[(dataset['Workload'] == 'SharePoint') & (dataset['ApplicationDisplayName'] == 'Unknown'), 'ApplicationDisplayName'] = 'SharePoint'\n",
    "dataset.loc[(dataset['Workload'] == 'Exchange') & (dataset['ApplicationDisplayName'].isna()), 'ApplicationDisplayName'] = 'Exchange'\n",
    "dataset.loc[(dataset['Workload'] == 'AzureActiveDirectory') & (dataset['ApplicationDisplayName'].isna()), 'ApplicationDisplayName'] = 'AzureActiveDirectory'\n",
    "dataset.loc[(dataset['Workload'] == 'MicrosoftTeams') & (dataset['ApplicationDisplayName'].isna()), 'ApplicationDisplayName'] = 'MicrosoftTeams'\n",
    "dataset.loc[(dataset['Workload'] == 'SecurityComplianceCenter') & (dataset['ApplicationDisplayName'].isna()), 'ApplicationDisplayName'] = 'SecurityComplianceCenter'\n",
    "dataset.loc[(dataset['Workload'] == 'Mip') & (dataset['ApplicationDisplayName'].isna()), 'ApplicationDisplayName'] = 'SecurityComplianceCenter'\n",
    "dataset.to_csv('User_and_Admin_Activity_Data_1.csv', index=False)"
   ]
  },
  {
   "cell_type": "markdown",
   "id": "ef351cb4-92a9-46b3-a3c6-d58b9515fbbd",
   "metadata": {},
   "source": [
    "# Droping an unwanted columns"
   ]
  },
  {
   "cell_type": "code",
   "execution_count": 53,
   "id": "aa3534f7-5e31-4625-bd09-198f7dda23e3",
   "metadata": {},
   "outputs": [],
   "source": [
    "dataset = dataset.drop(columns=['LogonType'])\n",
    "dataset = dataset.drop(columns=['ObjectId'])"
   ]
  },
  {
   "cell_type": "code",
   "execution_count": 55,
   "id": "217282ae-619f-46ec-8947-6efb0d7e7a2a",
   "metadata": {},
   "outputs": [
    {
     "data": {
      "text/plain": [
       "CreationDate                0\n",
       "RecordType                  0\n",
       "Operation                   0\n",
       "UserId                      0\n",
       "ResultStatus              399\n",
       "Workload                    0\n",
       "ClientIP                    0\n",
       "GeoLocation                 0\n",
       "ApplicationDisplayName      0\n",
       "LogonError                  0\n",
       "IsThreat                  671\n",
       "dtype: int64"
      ]
     },
     "execution_count": 55,
     "metadata": {},
     "output_type": "execute_result"
    }
   ],
   "source": [
    "dataset.isnull().sum()"
   ]
  },
  {
   "cell_type": "code",
   "execution_count": 57,
   "id": "36912d30-8bb8-4833-b6eb-c92f89ae52c7",
   "metadata": {},
   "outputs": [
    {
     "name": "stdout",
     "output_type": "stream",
     "text": [
      "<class 'pandas.core.frame.DataFrame'>\n",
      "RangeIndex: 671 entries, 0 to 670\n",
      "Data columns (total 11 columns):\n",
      " #   Column                  Non-Null Count  Dtype  \n",
      "---  ------                  --------------  -----  \n",
      " 0   CreationDate            671 non-null    object \n",
      " 1   RecordType              671 non-null    int64  \n",
      " 2   Operation               671 non-null    object \n",
      " 3   UserId                  671 non-null    object \n",
      " 4   ResultStatus            272 non-null    object \n",
      " 5   Workload                671 non-null    object \n",
      " 6   ClientIP                671 non-null    object \n",
      " 7   GeoLocation             671 non-null    object \n",
      " 8   ApplicationDisplayName  671 non-null    object \n",
      " 9   LogonError              671 non-null    object \n",
      " 10  IsThreat                0 non-null      float64\n",
      "dtypes: float64(1), int64(1), object(9)\n",
      "memory usage: 57.8+ KB\n"
     ]
    }
   ],
   "source": [
    "dataset.info()"
   ]
  },
  {
   "cell_type": "code",
   "execution_count": 59,
   "id": "3a172aac-e1c8-41c3-8ea1-92ac36f70191",
   "metadata": {},
   "outputs": [
    {
     "data": {
      "text/plain": [
       "(671, 11)"
      ]
     },
     "execution_count": 59,
     "metadata": {},
     "output_type": "execute_result"
    }
   ],
   "source": [
    "dataset.shape"
   ]
  },
  {
   "cell_type": "markdown",
   "id": "981084a9-022d-4f7a-ba28-d20bb963c1ad",
   "metadata": {},
   "source": [
    "# To find what user operations are generating blank for dataset column 'ResultStatus'"
   ]
  },
  {
   "cell_type": "code",
   "execution_count": 62,
   "id": "bbeb7722-021a-4505-be25-e451ccb211a4",
   "metadata": {},
   "outputs": [
    {
     "name": "stdout",
     "output_type": "stream",
     "text": [
      "Operation\n",
      "FileAccessed                     103\n",
      "Search                            45\n",
      "FilePreviewed                     43\n",
      "FileModified                      31\n",
      "FileModifiedExtended              22\n",
      "PageViewed                        19\n",
      "ListColumnCreated                 18\n",
      "FileUploaded                      15\n",
      "ListViewed                        15\n",
      "Validate                          10\n",
      "SignInEvent                        9\n",
      "FileRecycled                       9\n",
      "FileDownloaded                     8\n",
      "FileRenamed                        7\n",
      "FileAccessedExtended               7\n",
      "AccessedAggregates                 6\n",
      "TeamsSessionStarted                6\n",
      "SharingInheritanceBroken           4\n",
      "AuditSearchCreated                 4\n",
      "AuditSearchDeleted                 3\n",
      "ListCreated                        3\n",
      "AuditSearchCompleted               3\n",
      "FolderCreated                      2\n",
      "PageViewedExtended                 2\n",
      "FolderModified                     2\n",
      "AuditSearchExportJobCreated        1\n",
      "AuditSearchExportJobCompleted      1\n",
      "AuditSearchCancelled               1\n",
      "Name: count, dtype: int64\n"
     ]
    }
   ],
   "source": [
    "print(dataset[dataset['ResultStatus'].isna()]['Operation'].value_counts())"
   ]
  },
  {
   "cell_type": "code",
   "execution_count": 64,
   "id": "1495513d-84f9-4819-a402-ca9bedd30b26",
   "metadata": {},
   "outputs": [],
   "source": [
    "\n",
    "dataset.loc[(dataset['Operation'] == 'FileAccessed'), 'ResultStatus'] = 'succeeded'\n",
    "dataset.loc[(dataset['Operation'] == 'FileAccessedExtended'), 'ResultStatus'] = 'succeeded'\n",
    "dataset.loc[(dataset['Operation'] == 'FilePreviewed'), 'ResultStatus'] = 'succeeded'\n",
    "dataset.loc[(dataset['Operation'] == 'FileModified'), 'ResultStatus'] = 'succeeded'\n",
    "dataset.loc[(dataset['Operation'] == 'FileModifiedExtended'), 'ResultStatus'] = 'succeeded'\n",
    "dataset.loc[(dataset['Operation'] == 'FileDownloaded'), 'ResultStatus'] = 'succeeded'\n",
    "dataset.loc[(dataset['Operation'] == 'FileUploaded'), 'ResultStatus'] = 'succeeded'\n",
    "dataset.loc[(dataset['Operation'] == 'FileRenamed'), 'ResultStatus'] = 'succeeded'\n",
    "dataset.loc[(dataset['Operation'] == 'FileRecycled'), 'ResultStatus'] = 'succeeded'\n",
    "dataset.loc[(dataset['Operation'] == 'PageViewed'), 'ResultStatus'] = 'succeeded'\n",
    "dataset.loc[(dataset['Operation'] == 'PageViewedExtended'), 'ResultStatus'] = 'succeeded'\n",
    "dataset.loc[(dataset['ResultStatus'] == 'Success'), 'ResultStatus'] = 'succeeded'\n",
    "\n",
    "dataset['ResultStatus'] = dataset['ResultStatus'].str.lower()\n",
    "\n",
    "dataset.loc[(dataset['Operation'] == 'Search'), 'ResultStatus'] = 'unknown'\n",
    "dataset.loc[(dataset['Operation'] == 'ListColumnCreated'), 'ResultStatus'] = 'unknown'\n",
    "dataset.loc[(dataset['Operation'] == 'ListViewed'), 'ResultStatus'] = 'unknown'\n",
    "dataset.loc[(dataset['Operation'] == 'Validate'), 'ResultStatus'] = 'unknown'\n",
    "dataset.loc[(dataset['Operation'] == 'SignInEvent'), 'ResultStatus'] = 'unknown'\n",
    "dataset.loc[(dataset['Operation'] == 'TeamsSessionStarted'), 'ResultStatus'] = 'unknown'\n",
    "dataset.loc[(dataset['Operation'] == 'AccessedAggregates'), 'ResultStatus'] = 'unknown'\n",
    "dataset.loc[(dataset['Operation'] == 'SharingInheritanceBroken'), 'ResultStatus'] = 'unknown'\n",
    "dataset.loc[(dataset['Operation'] == 'AuditSearchCreated'), 'ResultStatus'] = 'unknown'\n",
    "dataset.loc[(dataset['Operation'] == 'AuditSearchCompleted'), 'ResultStatus'] = 'unknown'\n",
    "dataset.loc[(dataset['Operation'] == 'AuditSearchDeleted'), 'ResultStatus'] = 'unknown'\n",
    "dataset.loc[(dataset['Operation'] == 'ListCreated'), 'ResultStatus'] = 'unknown'\n",
    "dataset.loc[(dataset['Operation'] == 'FolderCreated'), 'ResultStatus'] = 'unknown'\n",
    "dataset.loc[(dataset['Operation'] == 'FolderModified'), 'ResultStatus'] = 'unknown'\n",
    "dataset.loc[(dataset['Operation'] == 'AuditSearchExportJobCreated'), 'ResultStatus'] = 'unknown'\n",
    "dataset.loc[(dataset['Operation'] == 'AuditSearchExportJobCompleted'), 'ResultStatus'] = 'unknown'\n",
    "dataset.loc[(dataset['Operation'] == 'AuditSearchCancelled'), 'ResultStatus'] = 'unknown'"
   ]
  },
  {
   "cell_type": "code",
   "execution_count": 66,
   "id": "fdc64ba5-874f-44d7-aaac-95538056feed",
   "metadata": {},
   "outputs": [
    {
     "name": "stdout",
     "output_type": "stream",
     "text": [
      "Series([], Name: count, dtype: int64)\n"
     ]
    }
   ],
   "source": [
    "print(dataset[dataset['ResultStatus'].isna()]['Operation'].value_counts())"
   ]
  },
  {
   "cell_type": "markdown",
   "id": "48fd03c8-2944-4824-a83d-cfb85124e062",
   "metadata": {},
   "source": [
    "# Converting CreationDate to datetime and create: HourOfDay, DayOfWeek and IsWeekend"
   ]
  },
  {
   "cell_type": "code",
   "execution_count": 69,
   "id": "d7f68fe9-9bfa-4912-847f-5537654dc26e",
   "metadata": {},
   "outputs": [],
   "source": [
    "# Converting to datetime format safely \n",
    "dataset['CreationDate'] = pd.to_datetime(dataset['CreationDate'], errors='coerce')\n",
    "# errors='coerce' will replace invalid or missing dates with NaT (Not a Time).\n",
    "\n",
    "# This gives us the hour (0 to 23) when the activity occurred.\n",
    "dataset['HourOfDay'] = dataset['CreationDate'].dt.hour\n",
    "\n",
    "# Monday = 0, Sunday = 6  - Useful for checking if a threat happened on a weekend vs a weekday.\n",
    "dataset['DayOfWeek'] = dataset['CreationDate'].dt.dayofweek\n",
    "\n",
    "# This creates a column with True for Saturday/Sunday and False otherwise.\n",
    "dataset['IsWeekend'] = dataset['DayOfWeek'].isin([5, 6])\n"
   ]
  },
  {
   "cell_type": "markdown",
   "id": "fecaadeb-6da4-4c34-9fe2-61d60dafe75b",
   "metadata": {},
   "source": [
    "#  Checking Null Values in Dataset columns after Data Preprocessing"
   ]
  },
  {
   "cell_type": "code",
   "execution_count": 72,
   "id": "473c2445-1715-428f-950b-0bf7883b8bd6",
   "metadata": {},
   "outputs": [
    {
     "data": {
      "text/plain": [
       "CreationDate                0\n",
       "RecordType                  0\n",
       "Operation                   0\n",
       "UserId                      0\n",
       "ResultStatus                0\n",
       "Workload                    0\n",
       "ClientIP                    0\n",
       "GeoLocation                 0\n",
       "ApplicationDisplayName      0\n",
       "LogonError                  0\n",
       "IsThreat                  671\n",
       "HourOfDay                   0\n",
       "DayOfWeek                   0\n",
       "IsWeekend                   0\n",
       "dtype: int64"
      ]
     },
     "execution_count": 72,
     "metadata": {},
     "output_type": "execute_result"
    }
   ],
   "source": [
    "dataset.isnull().sum()"
   ]
  },
  {
   "cell_type": "code",
   "execution_count": 74,
   "id": "2dde686d-ef4e-43fc-ba6c-7635e25f2376",
   "metadata": {},
   "outputs": [
    {
     "data": {
      "text/plain": [
       "(671, 14)"
      ]
     },
     "execution_count": 74,
     "metadata": {},
     "output_type": "execute_result"
    }
   ],
   "source": [
    "dataset.shape"
   ]
  },
  {
   "cell_type": "markdown",
   "id": "1518f914-9179-4167-a4f7-9049594f83b5",
   "metadata": {},
   "source": [
    "# Creating Custom Risk Indicators"
   ]
  },
  {
   "cell_type": "code",
   "execution_count": 77,
   "id": "c8e3f9e0-ece2-4732-9f70-73259803dd8a",
   "metadata": {},
   "outputs": [],
   "source": [
    "# Binary login failure flag\n",
    "dataset['IsLoginFailure'] = dataset['ResultStatus'].apply(lambda x: 1 if str(x).lower() in ['failed', 'failure', 'error', 'denied','unknown'] else 0)\n",
    "\n",
    "# Risky login hour (e.g., night hours)\n",
    "dataset['IsRiskyHour'] = dataset['HourOfDay'].apply(lambda x: 1 if x <= 6 or x >= 22 else 0)\n",
    "\n",
    "# Keyword in ApplicationDisplayName\n",
    "SUSPICIOUS_APP_USED= True\n",
    "SUSPICIOUS_APP_NOT_USED= False\n",
    "suspicious_keywords = ['M365ChatClient', 'MSWACONSync', 'OfficeServicesManager', 'SecurityComplianceCenter']\n",
    "dataset.loc[dataset['ApplicationDisplayName'].isin(suspicious_keywords), 'SuspiciousAppUsed'] = SUSPICIOUS_APP_USED\n",
    "dataset.loc[~dataset['ApplicationDisplayName'].isin(suspicious_keywords), 'SuspiciousAppUsed'] = SUSPICIOUS_APP_NOT_USED"
   ]
  },
  {
   "cell_type": "markdown",
   "id": "07b03ae7-8193-4b86-8776-92b348ab450b",
   "metadata": {},
   "source": [
    "# Declaring all possible Threats"
   ]
  },
  {
   "cell_type": "code",
   "execution_count": 79,
   "id": "de556561-67eb-4a09-922b-da218af5573b",
   "metadata": {},
   "outputs": [
    {
     "name": "stderr",
     "output_type": "stream",
     "text": [
      "C:\\Users\\win\\AppData\\Local\\Temp\\ipykernel_18792\\3780358072.py:8: FutureWarning: Setting an item of incompatible dtype is deprecated and will raise an error in a future version of pandas. Value 'True' has dtype incompatible with float64, please explicitly cast to a compatible dtype first.\n",
      "  dataset.loc[dataset['Operation'].isin(THREAT_OPERATIONS), 'IsThreat'] = IS_THREAT\n"
     ]
    }
   ],
   "source": [
    "IS_THREAT= True\n",
    "IS_NOT_THREAT= False\n",
    "\n",
    "THREAT_OPERATIONS = ['AuditSearchDeleted','FileAccessed','FileDownloaded','FileModified','FileModifiedExtended','FileRecycled','FileRenamed','FileUploaded',\n",
    "                     'FolderModified','Get-AutoSensitivityLabelPolicy','Get-DlpSensitiveInformationType','MoveToDeletedItems','SharingInheritanceBroken',\n",
    "                     'TeamsSessionStarted','UserLoginFailed']\n",
    "\n",
    "dataset.loc[dataset['Operation'].isin(THREAT_OPERATIONS), 'IsThreat'] = IS_THREAT\n",
    "dataset.loc[~dataset['Operation'].isin(THREAT_OPERATIONS), 'IsThreat'] = IS_NOT_THREAT\n"
   ]
  },
  {
   "cell_type": "code",
   "execution_count": 81,
   "id": "d47bf021-ee22-4b8d-9099-73d5572c8f87",
   "metadata": {},
   "outputs": [],
   "source": [
    "for i in dataset.index:\n",
    "    if '::' in dataset.at[i, 'ClientIP']:\n",
    "        dataset.at[i, 'IsThreat'] = True\n",
    " \n",
    "dataset.loc[(dataset['ResultStatus'] == 'unknown'), 'IsThreat'] = True"
   ]
  },
  {
   "cell_type": "code",
   "execution_count": 83,
   "id": "78002ee2-4cb1-4211-9e94-86be21857ef5",
   "metadata": {},
   "outputs": [],
   "source": [
    "dataset.to_csv('User_and_Admin_Activity_Data_1.csv', index=False)"
   ]
  },
  {
   "cell_type": "code",
   "execution_count": null,
   "id": "8e4a1187-f24b-4c3e-aa1b-988126cfa505",
   "metadata": {},
   "outputs": [],
   "source": [
    "dataset.shape"
   ]
  }
 ],
 "metadata": {
  "kernelspec": {
   "display_name": "Python 3 (ipykernel)",
   "language": "python",
   "name": "python3"
  },
  "language_info": {
   "codemirror_mode": {
    "name": "ipython",
    "version": 3
   },
   "file_extension": ".py",
   "mimetype": "text/x-python",
   "name": "python",
   "nbconvert_exporter": "python",
   "pygments_lexer": "ipython3",
   "version": "3.12.7"
  }
 },
 "nbformat": 4,
 "nbformat_minor": 5
}
